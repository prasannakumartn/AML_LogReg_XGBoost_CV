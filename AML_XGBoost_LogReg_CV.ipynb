{
 "cells": [
  {
   "cell_type": "code",
   "execution_count": 1,
   "metadata": {},
   "outputs": [],
   "source": [
    "import numpy as np\n",
    "import pandas as pd\n",
    "from sklearn.preprocessing import StandardScaler\n",
    "from sklearn import preprocessing\n",
    "\n",
    "from sklearn.model_selection import train_test_split,GridSearchCV\n",
    "from sklearn.ensemble import GradientBoostingClassifier\n",
    "from sklearn.metrics import roc_curve, auc,confusion_matrix,recall_score\n",
    "from sklearn import metrics\n",
    "\n",
    "import matplotlib.pyplot as plt\n",
    "import matplotlib.cm as cm\n",
    "from matplotlib import style\n",
    "style.use('ggplot')\n",
    "import seaborn as sns\n",
    "%matplotlib inline"
   ]
  },
  {
   "cell_type": "code",
   "execution_count": 5,
   "metadata": {},
   "outputs": [],
   "source": [
    "raw_data = pd.read_csv(\"AML.csv\")"
   ]
  },
  {
   "cell_type": "code",
   "execution_count": 6,
   "metadata": {},
   "outputs": [
    {
     "data": {
      "text/html": [
       "<div>\n",
       "<style scoped>\n",
       "    .dataframe tbody tr th:only-of-type {\n",
       "        vertical-align: middle;\n",
       "    }\n",
       "\n",
       "    .dataframe tbody tr th {\n",
       "        vertical-align: top;\n",
       "    }\n",
       "\n",
       "    .dataframe thead th {\n",
       "        text-align: right;\n",
       "    }\n",
       "</style>\n",
       "<table border=\"1\" class=\"dataframe\">\n",
       "  <thead>\n",
       "    <tr style=\"text-align: right;\">\n",
       "      <th></th>\n",
       "      <th>step</th>\n",
       "      <th>type</th>\n",
       "      <th>amount</th>\n",
       "      <th>nameOrig</th>\n",
       "      <th>oldbalanceOrg</th>\n",
       "      <th>newbalanceOrig</th>\n",
       "      <th>nameDest</th>\n",
       "      <th>oldbalanceDest</th>\n",
       "      <th>newbalanceDest</th>\n",
       "      <th>isFraud</th>\n",
       "      <th>isFlaggedFraud</th>\n",
       "    </tr>\n",
       "  </thead>\n",
       "  <tbody>\n",
       "    <tr>\n",
       "      <th>0</th>\n",
       "      <td>1</td>\n",
       "      <td>PAYMENT</td>\n",
       "      <td>9839.64</td>\n",
       "      <td>C1231006815</td>\n",
       "      <td>170136.0</td>\n",
       "      <td>160296.36</td>\n",
       "      <td>M1979787155</td>\n",
       "      <td>0.0</td>\n",
       "      <td>0.0</td>\n",
       "      <td>0</td>\n",
       "      <td>0</td>\n",
       "    </tr>\n",
       "    <tr>\n",
       "      <th>1</th>\n",
       "      <td>1</td>\n",
       "      <td>PAYMENT</td>\n",
       "      <td>1864.28</td>\n",
       "      <td>C1666544295</td>\n",
       "      <td>21249.0</td>\n",
       "      <td>19384.72</td>\n",
       "      <td>M2044282225</td>\n",
       "      <td>0.0</td>\n",
       "      <td>0.0</td>\n",
       "      <td>0</td>\n",
       "      <td>0</td>\n",
       "    </tr>\n",
       "    <tr>\n",
       "      <th>2</th>\n",
       "      <td>1</td>\n",
       "      <td>TRANSFER</td>\n",
       "      <td>181.00</td>\n",
       "      <td>C1305486145</td>\n",
       "      <td>181.0</td>\n",
       "      <td>0.00</td>\n",
       "      <td>C553264065</td>\n",
       "      <td>0.0</td>\n",
       "      <td>0.0</td>\n",
       "      <td>1</td>\n",
       "      <td>0</td>\n",
       "    </tr>\n",
       "    <tr>\n",
       "      <th>3</th>\n",
       "      <td>1</td>\n",
       "      <td>CASH_OUT</td>\n",
       "      <td>181.00</td>\n",
       "      <td>C840083671</td>\n",
       "      <td>181.0</td>\n",
       "      <td>0.00</td>\n",
       "      <td>C38997010</td>\n",
       "      <td>21182.0</td>\n",
       "      <td>0.0</td>\n",
       "      <td>1</td>\n",
       "      <td>0</td>\n",
       "    </tr>\n",
       "    <tr>\n",
       "      <th>4</th>\n",
       "      <td>1</td>\n",
       "      <td>PAYMENT</td>\n",
       "      <td>11668.14</td>\n",
       "      <td>C2048537720</td>\n",
       "      <td>41554.0</td>\n",
       "      <td>29885.86</td>\n",
       "      <td>M1230701703</td>\n",
       "      <td>0.0</td>\n",
       "      <td>0.0</td>\n",
       "      <td>0</td>\n",
       "      <td>0</td>\n",
       "    </tr>\n",
       "  </tbody>\n",
       "</table>\n",
       "</div>"
      ],
      "text/plain": [
       "   step      type    amount     nameOrig  oldbalanceOrg  newbalanceOrig  \\\n",
       "0     1   PAYMENT   9839.64  C1231006815       170136.0       160296.36   \n",
       "1     1   PAYMENT   1864.28  C1666544295        21249.0        19384.72   \n",
       "2     1  TRANSFER    181.00  C1305486145          181.0            0.00   \n",
       "3     1  CASH_OUT    181.00   C840083671          181.0            0.00   \n",
       "4     1   PAYMENT  11668.14  C2048537720        41554.0        29885.86   \n",
       "\n",
       "      nameDest  oldbalanceDest  newbalanceDest  isFraud  isFlaggedFraud  \n",
       "0  M1979787155             0.0             0.0        0               0  \n",
       "1  M2044282225             0.0             0.0        0               0  \n",
       "2   C553264065             0.0             0.0        1               0  \n",
       "3    C38997010         21182.0             0.0        1               0  \n",
       "4  M1230701703             0.0             0.0        0               0  "
      ]
     },
     "execution_count": 6,
     "metadata": {},
     "output_type": "execute_result"
    }
   ],
   "source": [
    "raw_data.head()"
   ]
  },
  {
   "cell_type": "code",
   "execution_count": 7,
   "metadata": {},
   "outputs": [
    {
     "name": "stderr",
     "output_type": "stream",
     "text": [
      "/Users/prsnasmiles/anaconda3/lib/python3.7/site-packages/pandas/core/frame.py:3940: SettingWithCopyWarning: \n",
      "A value is trying to be set on a copy of a slice from a DataFrame\n",
      "\n",
      "See the caveats in the documentation: http://pandas.pydata.org/pandas-docs/stable/indexing.html#indexing-view-versus-copy\n",
      "  errors=errors)\n"
     ]
    }
   ],
   "source": [
    "data_used = raw_data.loc[(raw_data['type'].isin(['TRANSFER', 'CASH_OUT'])),:]\n",
    "data_used.drop(['step', 'nameOrig', 'nameDest', 'isFlaggedFraud'], axis=1, inplace=True)\n",
    "\n",
    "data_used = data_used.reset_index(drop=True)\n",
    "\n",
    "type_encoder = preprocessing.LabelEncoder()\n",
    "type_category = type_encoder.fit_transform(data_used['type'].values)\n",
    "data_used['type_code'] = type_category"
   ]
  },
  {
   "cell_type": "code",
   "execution_count": 8,
   "metadata": {},
   "outputs": [
    {
     "name": "stdout",
     "output_type": "stream",
     "text": [
      "--------------------------------------------------------------------------\n",
      "Ratio of nomal:  0.5\n",
      "Ratio of fraud:  0.5\n",
      "Number of data for model:  16426\n"
     ]
    }
   ],
   "source": [
    "# under sample\n",
    "feature_names = ['amount', 'oldbalanceOrg', 'newbalanceOrig', \n",
    "                 'oldbalanceDest', 'newbalanceDest', 'type_code']\n",
    "number_records_fraud = len(data_used[data_used['isFraud'] == 1])\n",
    "\n",
    "#　indices of fraud_indices\n",
    "fraud_indices = data_used[data_used['isFraud'] == 1].index.values\n",
    "\n",
    "#indices of the normal records\n",
    "nonfraud_indices = data_used[data_used['isFraud'] == 0].index\n",
    "\n",
    "random_nonfraud_indices = np.random.choice(nonfraud_indices, number_records_fraud, replace=False)\n",
    "random_nonfraud_indices = np.array(random_nonfraud_indices)\n",
    "\n",
    "under_sample_indices = np.concatenate([fraud_indices, random_nonfraud_indices])\n",
    "under_sample_data = data_used.iloc[under_sample_indices, :]\n",
    "                          \n",
    "#print(under_sample_data[feature_names].head())\n",
    "X_undersample = under_sample_data[feature_names].values\n",
    "y_undersample = under_sample_data['isFraud'].values\n",
    "print(\"--------------------------------------------------------------------------\")\n",
    "\n",
    "print(\"Ratio of nomal: \", len(under_sample_data[under_sample_data['isFraud'] == 0]) / len(under_sample_data))\n",
    "print(\"Ratio of fraud: \", len(under_sample_data[under_sample_data['isFraud'] == 1]) / len(under_sample_data))\n",
    "print(\"Number of data for model: \", len(under_sample_data))"
   ]
  },
  {
   "cell_type": "code",
   "execution_count": 9,
   "metadata": {},
   "outputs": [],
   "source": [
    "X_train, X_test, y_train, y_test = train_test_split(X_undersample, y_undersample, test_size=0.3, random_state=100)"
   ]
  },
  {
   "cell_type": "code",
   "execution_count": 20,
   "metadata": {},
   "outputs": [
    {
     "data": {
      "text/plain": [
       "KFold(n_splits=5, random_state=777, shuffle=True)"
      ]
     },
     "execution_count": 20,
     "metadata": {},
     "output_type": "execute_result"
    }
   ],
   "source": [
    "from sklearn.model_selection import KFold\n",
    "fold = KFold(n_splits=5, shuffle=True, random_state=777)"
   ]
  },
  {
   "cell_type": "code",
   "execution_count": 23,
   "metadata": {},
   "outputs": [
    {
     "name": "stdout",
     "output_type": "stream",
     "text": [
      "auc: 0.9767356546777761\n"
     ]
    },
    {
     "data": {
      "image/png": "[encoded data removed]",
      "text/plain": [
       "<Figure size 432x288 with 1 Axes>"
      ]
     },
     "metadata": {
      "needs_background": "light"
     },
     "output_type": "display_data"
    },
    {
     "name": "stdout",
     "output_type": "stream",
     "text": [
      "coef_: [[-8.68146434e-07  2.33335222e-05 -2.28607529e-05  1.13058761e-05\n",
      "  -1.13784936e-05  9.93323358e-01]]\n"
     ]
    }
   ],
   "source": [
    "#Logistic_Regression_CV Model\n",
    "\n",
    "from sklearn.linear_model import LogisticRegressionCV\n",
    "alpha = np.logspace(-2, 2, 20) #for regularisation\n",
    "\n",
    "lr_model_cv = LogisticRegressionCV(Cs=alpha, penalty='l1', solver='liblinear', cv=fold)\n",
    "lr_model_cv.fit(X_train, y_train)\n",
    "\n",
    "y_pred_score_cv = lr_model_cv.predict_proba(X_test)\n",
    "# print('y_pred_score_cv:')\n",
    "# print(y_pred_score_cv)\n",
    "\n",
    "fpr_cv, tpr_cv, thresholds_cv = roc_curve(y_test, y_pred_score_cv[:, 1])\n",
    "roc_auc_cv = auc(fpr_cv,tpr_cv)\n",
    "print('auc:', roc_auc_cv)\n",
    "\n",
    "#ROC\n",
    "plt.title('Receiver Operating Characteristic')\n",
    "plt.plot(fpr_cv, tpr_cv, 'b',label='AUC = %0.4f'% roc_auc_cv)\n",
    "plt.legend(loc='lower right')\n",
    "plt.plot([0,1],[0,1],'r--')\n",
    "plt.xlim([-0.1,1.0])\n",
    "plt.ylim([-0.1,1.01])\n",
    "plt.ylabel('True Positive Rate')\n",
    "plt.xlabel('False Positive Rate')\n",
    "plt.show()\n",
    "\n",
    "print('coef_:', lr_model_cv.coef_)"
   ]
  },
  {
   "cell_type": "code",
   "execution_count": 25,
   "metadata": {},
   "outputs": [
    {
     "name": "stdout",
     "output_type": "stream",
     "text": [
      "auc_test: 0.998163531896248\n",
      "best_params {'max_depth': 6, 'n_estimators': 200}\n",
      "\n",
      "\n",
      "test classification report: \n",
      "               precision    recall  f1-score   support\n",
      "\n",
      "           0       1.00      0.98      0.99      2490\n",
      "           1       0.98      1.00      0.99      2438\n",
      "\n",
      "    accuracy                           0.99      4928\n",
      "   macro avg       0.99      0.99      0.99      4928\n",
      "weighted avg       0.99      0.99      0.99      4928\n",
      "\n"
     ]
    },
    {
     "data": {
      "image/png": "[encoded data removed]",
      "text/plain": [
       "<Figure size 432x288 with 1 Axes>"
      ]
     },
     "metadata": {
      "needs_background": "light"
     },
     "output_type": "display_data"
    },
    {
     "name": "stdout",
     "output_type": "stream",
     "text": [
      "GridSearchCV(cv=5, error_score='raise-deprecating',\n",
      "             estimator=XGBClassifier(base_score=0.5, booster='gbtree',\n",
      "                                     colsample_bylevel=1, colsample_bynode=1,\n",
      "                                     colsample_bytree=0.8, gamma=0,\n",
      "                                     learning_rate=0.1, max_delta_step=0,\n",
      "                                     max_depth=6, min_child_weight=1,\n",
      "                                     missing=None, n_estimators=100, n_jobs=1,\n",
      "                                     nthread=4, objective='binary:logistic',\n",
      "                                     random_state=0, reg_alpha=0, reg_lambda=1,\n",
      "                                     scale_pos_weight=1, seed=27, silent=None,\n",
      "                                     subsample=0.8, verbosity=1),\n",
      "             iid=False, n_jobs=4,\n",
      "             param_grid={'max_depth': range(2, 16, 2),\n",
      "                         'n_estimators': [80, 100, 120, 160, 200]},\n",
      "             pre_dispatch='2*n_jobs', refit=True, return_train_score=False,\n",
      "             scoring='roc_auc', verbose=0)\n"
     ]
    }
   ],
   "source": [
    "import xgboost as xgb\n",
    "from sklearn.model_selection import GridSearchCV\n",
    "\n",
    "param_test = {    \n",
    "    'n_estimators':[80, 100, 120,160,200],\n",
    "    'max_depth':range(2,16,2)\n",
    "}\n",
    "\n",
    "xgb_cv = GridSearchCV(estimator=xgb.XGBClassifier(learning_rate =0.1,\n",
    "                                                   n_estimators=100, \n",
    "                                                   max_depth=6,\n",
    "                                                   min_child_weight=1,  \n",
    "                                                   gamma=0, \n",
    "                                                   subsample=0.8,\n",
    "                                                   colsample_bytree=0.8,\n",
    "                                                   objective= 'binary:logistic', \n",
    "                                                   nthread=4,\n",
    "                                                   scale_pos_weight=1, \n",
    "                                                   seed=27),\n",
    "                       param_grid = param_test,\n",
    "                       scoring='roc_auc',\n",
    "                       n_jobs=4,\n",
    "                       iid=False, \n",
    "                       cv=5\n",
    "                       )\n",
    "\n",
    "xgb_cv.fit(X_train, y_train)\n",
    "\n",
    "test_est_xgb_cv = xgb_cv.predict(X_test)\n",
    "test_est_p_xgb_cv = xgb_cv.predict_proba(X_test)[:,1]\n",
    "\n",
    "fpr_test_xgb_cv, tpr_test_xgb_cv, th_test_xgb_cv = metrics.roc_curve(y_test, test_est_p_xgb_cv)\n",
    "test_roc_auc_xgb_cv = auc(fpr_test_xgb_cv,tpr_test_xgb_cv)\n",
    "\n",
    "print('auc_test:', test_roc_auc_xgb_cv)\n",
    "print('best_params',xgb_cv.best_params_)\n",
    "print('\\n')\n",
    "print('test classification report: \\n',metrics.classification_report(y_test, test_est_xgb_cv))\n",
    "\n",
    "#ROC\n",
    "plt.title('Receiver Operating Characteristic')\n",
    "plt.plot(fpr_test_xgb_cv, tpr_test_xgb_cv, color=\"k\",label='AUC_test = %0.5f'% test_roc_auc_xgb_cv)\n",
    "plt.legend(loc='lower right')\n",
    "plt.plot([0,1],[0,1],'r--')\n",
    "plt.xlim([-0.1,1.0])\n",
    "plt.ylim([-0.1,1.01])\n",
    "plt.ylabel('True Positive Rate')\n",
    "plt.xlabel('False Positive Rate')\n",
    "plt.show()\n",
    "print(xgb_cv)"
   ]
  },
  {
   "cell_type": "code",
   "execution_count": null,
   "metadata": {},
   "outputs": [],
   "source": []
  }
 ],
 "metadata": {
  "kernelspec": {
   "display_name": "Python 3",
   "language": "python",
   "name": "python3"
  },
  "language_info": {
   "codemirror_mode": {
    "name": "ipython",
    "version": 3
   },
   "file_extension": ".py",
   "mimetype": "text/x-python",
   "name": "python",
   "nbconvert_exporter": "python",
   "pygments_lexer": "ipython3",
   "version": "3.7.3"
  }
 },
 "nbformat": 4,
 "nbformat_minor": 2
}
